{
 "cells": [
  {
   "cell_type": "markdown",
   "id": "1e4f2cbc",
   "metadata": {},
   "source": [
    "UML Diagram\n",
    "-Class base\n",
    "-Stucture/ component Base\n",
    "\n"
   ]
  }
 ],
 "metadata": {
  "language_info": {
   "name": "python"
  }
 },
 "nbformat": 4,
 "nbformat_minor": 5
}
