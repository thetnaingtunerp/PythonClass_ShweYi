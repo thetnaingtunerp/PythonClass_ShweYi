{
 "cells": [
  {
   "cell_type": "code",
   "execution_count": null,
   "id": "1318aae0",
   "metadata": {},
   "outputs": [],
   "source": [
    "!pip install pandas"
   ]
  },
  {
   "cell_type": "code",
   "execution_count": null,
   "id": "c41f146c",
   "metadata": {},
   "outputs": [],
   "source": [
    "import pandas as pd"
   ]
  },
  {
   "cell_type": "code",
   "execution_count": null,
   "id": "534f5b04",
   "metadata": {},
   "outputs": [],
   "source": [
    "# Series  1D\n",
    "# Dataframe 2D\n",
    "import pandas as pd\n",
    "a = [2,3,4,5]\n",
    "ser = pd.Series(a, index=['a', 'b', 'c','d'])\n",
    "ser"
   ]
  },
  {
   "cell_type": "code",
   "execution_count": null,
   "id": "ca9387f9",
   "metadata": {},
   "outputs": [],
   "source": [
    "import pandas as pd\n",
    "import numpy as np\n",
    "\n",
    "b = np.array([\n",
    "    [1,2,3,4],\n",
    "    [3,6,9,12],\n",
    "    [3,6,9,12],\n",
    "    ])\n",
    "\n",
    "b."
   ]
  }
 ],
 "metadata": {
  "kernelspec": {
   "display_name": ".venv (3.12.7)",
   "language": "python",
   "name": "python3"
  },
  "language_info": {
   "codemirror_mode": {
    "name": "ipython",
    "version": 3
   },
   "file_extension": ".py",
   "mimetype": "text/x-python",
   "name": "python",
   "nbconvert_exporter": "python",
   "pygments_lexer": "ipython3",
   "version": "3.12.7"
  }
 },
 "nbformat": 4,
 "nbformat_minor": 5
}
