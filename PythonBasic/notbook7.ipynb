{
 "cells": [
  {
   "cell_type": "code",
   "execution_count": null,
   "id": "cb83502b",
   "metadata": {},
   "outputs": [],
   "source": [
    "# Flask() api \n",
    "# Fastapi() api\n",
    "# tkiner"
   ]
  },
  {
   "cell_type": "code",
   "execution_count": null,
   "id": "c89af846",
   "metadata": {},
   "outputs": [],
   "source": [
    "def myfun(a,b):\n",
    "    c = 30+ 20\n",
    "    secfun()\n",
    "    print(c)\n",
    "\n",
    "def secfun():\n",
    "    print('this is second')\n",
    "    \n",
    "myfun()"
   ]
  },
  {
   "cell_type": "code",
   "execution_count": 60,
   "id": "de4bf03b",
   "metadata": {},
   "outputs": [
    {
     "name": "stdout",
     "output_type": "stream",
     "text": [
      "this is working\n",
      "start a functin aung aung\n"
     ]
    }
   ],
   "source": [
    "class LoggControl:\n",
    "    def __init__(self, name, age):\n",
    "        self.n1 = name\n",
    "        self.a1 = age\n",
    "        \n",
    "    def start(self):\n",
    "        print(f'start a functin {self.n1}')\n",
    "    \n",
    "    def working(self):\n",
    "        print(f'this is working')\n",
    "        \n",
    "    def finshing(self):\n",
    "        print(f'finishing...{self.a1}')\n",
    "    \n",
    "\n",
    "class Second(LoggControl):\n",
    "    def __init__(self, name, age):\n",
    "        self.name = name\n",
    "        LoggControl.__init__(self, name, age)\n",
    "\n",
    "        \n",
    "ap = Second(name='aung aung', age=23)  \n",
    "ap.working()\n",
    "ap.start()      "
   ]
  },
  {
   "cell_type": "code",
   "execution_count": null,
   "id": "0f94f809",
   "metadata": {},
   "outputs": [],
   "source": []
  }
 ],
 "metadata": {
  "kernelspec": {
   "display_name": ".venv (3.12.7)",
   "language": "python",
   "name": "python3"
  },
  "language_info": {
   "codemirror_mode": {
    "name": "ipython",
    "version": 3
   },
   "file_extension": ".py",
   "mimetype": "text/x-python",
   "name": "python",
   "nbconvert_exporter": "python",
   "pygments_lexer": "ipython3",
   "version": "3.12.7"
  }
 },
 "nbformat": 4,
 "nbformat_minor": 5
}
