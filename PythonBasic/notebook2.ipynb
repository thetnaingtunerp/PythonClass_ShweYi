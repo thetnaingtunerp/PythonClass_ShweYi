{
 "cells": [
  {
   "cell_type": "markdown",
   "id": "3eca37ca",
   "metadata": {},
   "source": [
    "Control flow"
   ]
  },
  {
   "cell_type": "code",
   "execution_count": null,
   "id": "b2df4112",
   "metadata": {},
   "outputs": [],
   "source": [
    "# input()\n",
    "first = int(input('Enter First Number')) #20\n",
    "second = int(input('Enter Second Number')) #30\n",
    "print(type(first))\n",
    "first + second"
   ]
  },
  {
   "cell_type": "code",
   "execution_count": null,
   "id": "69c85217",
   "metadata": {},
   "outputs": [],
   "source": [
    "mylist = [10,20,30]\n",
    "first = int(input('Enter First Number'))\n",
    "mylist.append(first)\n",
    "# list.append('Aung Aung')\n",
    "mylist.insert(1, first)\n",
    "# list.remove(\"Mg Mg\")\n",
    "# list.pop() #remove end\n",
    "mylist"
   ]
  },
  {
   "cell_type": "code",
   "execution_count": null,
   "id": "e9c2bf3a",
   "metadata": {},
   "outputs": [],
   "source": [
    "name = 'Mg Mg'\n",
    "mylist = [10,20,30,40,50,60,70,80,90,100]\n",
    "mydic = {'name': 'Mg Mg', 'age': 20, 'address':'Yangon'}\n",
    "# python  for , while, do while\n",
    "for ke, val in mydic.items():\n",
    "    print(ke)\n",
    "    print(val)"
   ]
  },
  {
   "cell_type": "code",
   "execution_count": null,
   "id": "32919b79",
   "metadata": {},
   "outputs": [],
   "source": [
    "# match case\n",
    "# match condition_variable:\n",
    "#     case True:\n",
    "#         print('helo')\n",
    "num = 5\n",
    "\n",
    "match num:\n",
    "    case 1:\n",
    "        print('num is ', num)\n",
    "    case 2:\n",
    "        print('num is ', num)\n",
    "    case 5:\n",
    "        print('num is ', num)\n",
    "    case 6:\n",
    "        print('num is ', num)\n",
    "\n",
    "\n",
    "    "
   ]
  },
  {
   "cell_type": "code",
   "execution_count": null,
   "id": "c1b87f0d",
   "metadata": {},
   "outputs": [],
   "source": [
    "num = 5\n",
    "if num > 10:\n",
    "    print('number is greater than 10')\n",
    "elif num >= 5:\n",
    "    print('number is greater than 5')\n",
    "\n",
    "elif num > 3:\n",
    "    print('number is grater than 3') \n",
    "else:\n",
    "    print('this is else section')\n",
    "    "
   ]
  },
  {
   "cell_type": "code",
   "execution_count": null,
   "id": "ea4798ac",
   "metadata": {},
   "outputs": [],
   "source": [
    "mylist = [10,20,30,40,50,60,70,80,90,100]\n",
    "for i in mylist:\n",
    "    # print(i)\n",
    "    if i % 3 == 0:\n",
    "        print(i)\n",
    "        \n",
    "    "
   ]
  },
  {
   "cell_type": "code",
   "execution_count": null,
   "id": "bcef3296",
   "metadata": {},
   "outputs": [],
   "source": [
    "# def \n",
    "# def func_name(prameters, args):\n",
    "    # funtion operation"
   ]
  },
  {
   "cell_type": "code",
   "execution_count": null,
   "id": "178affdc",
   "metadata": {},
   "outputs": [],
   "source": [
    "user = 'admin'\n",
    "pas ='12345'\n",
    "\n",
    "def login(username, password):\n",
    "    if username =='admin' and password == '12345':\n",
    "        print('Login Success')\n",
    "    else:\n",
    "        print('Fail')\n",
    "\n",
    "login(password=pas,username=user)"
   ]
  },
  {
   "cell_type": "code",
   "execution_count": null,
   "id": "5ff4048a",
   "metadata": {},
   "outputs": [],
   "source": [
    "def add(*args):\n",
    "    a = 0\n",
    "    for i in args:\n",
    "        a+=i\n",
    "    print(a)\n",
    "    \n",
    "add(50,80,90,40,80,70)"
   ]
  },
  {
   "cell_type": "code",
   "execution_count": null,
   "id": "3d9cf7e0",
   "metadata": {},
   "outputs": [],
   "source": [
    "# keywork arg\n",
    "def add(**kwarg):\n",
    "    for k,v in kwarg.items():\n",
    "        print(f\"k is :{k}\")\n",
    "\n",
    "add(fist=20, second = 30)"
   ]
  },
  {
   "cell_type": "code",
   "execution_count": null,
   "id": "fe98f173",
   "metadata": {},
   "outputs": [],
   "source": [
    "# lambda function\n",
    "# def\n",
    "# lambda keyword\n",
    "# lambda parameter : expection\n",
    "\n",
    "mylist = [20,30,40,50,60]\n",
    "def fun_name():\n",
    "    for i in mylist:\n",
    "        print(i)\n",
    "    \n",
    "fun_name()\n",
    "# fun_name(3,2)\n",
    "\n",
    "# mylambda = lambda a,b : a+b\n",
    "\n",
    "# mylambda(4,6)\n",
    "# one stantance function \n",
    "# variable function \n",
    "# one line function\n"
   ]
  },
  {
   "cell_type": "code",
   "execution_count": null,
   "id": "5c1c174e",
   "metadata": {},
   "outputs": [],
   "source": [
    "mylist = [20,30,40,50,60]\n",
    "lam = lambda : mylist\n",
    "lam"
   ]
  },
  {
   "cell_type": "code",
   "execution_count": null,
   "id": "e590f9c1",
   "metadata": {},
   "outputs": [],
   "source": [
    "# local vs global \n",
    "name = 'mg mg'  \n",
    "age = 30\n",
    "\n",
    "def myabout(name):\n",
    "    a = 'aung aung'\n",
    "    print(name)\n",
    "    print(age)\n",
    "    \n",
    "myabout(name)"
   ]
  },
  {
   "cell_type": "code",
   "execution_count": null,
   "id": "5d584e98",
   "metadata": {},
   "outputs": [],
   "source": [
    "# OOP \n",
    "class myClass:\n",
    "    x = 'mg mg' #attributes\n",
    "    \n",
    "my = myClass() # create Object\n",
    "print(my.x)  # obj.att"
   ]
  },
  {
   "cell_type": "code",
   "execution_count": null,
   "id": "36ef1fab",
   "metadata": {},
   "outputs": [],
   "source": [
    "# __init__ method\n",
    "class myClass:\n",
    "    def __init__(self, pname, page):\n",
    "        self.name = pname\n",
    "        self.age = page\n",
    "    \n",
    "    def __str__(self):\n",
    "        print(f\"name is {self.name} , his age is {self.age}\")\n",
    "        \n",
    "\n",
    "obj = myClass('Aung Aung', 30)\n",
    "print(obj)       \n",
    "# name is aung aung , his age is 30"
   ]
  },
  {
   "cell_type": "code",
   "execution_count": null,
   "id": "28a01add",
   "metadata": {},
   "outputs": [],
   "source": [
    "s1 = '   |   ' #2\n",
    "s2 = '  -o-  '\n",
    "s3 = '+--|--+'\n",
    "s4 = '  [=]  ' #3\n",
    "s5 = '  /|\\  '\n",
    "s6 ='  |||  ' #2\n",
    "s7 =' /|||\\ '\n",
    "\n",
    "\n",
    "def tower(si, num):\n",
    "        for  i in range(num):\n",
    "                print(si)\n",
    "\n",
    "tower(s1, 2)\n",
    "tower(s2, 1)\n",
    "tower(s3, 2)\n",
    "tower(s4, 3)"
   ]
  },
  {
   "cell_type": "code",
   "execution_count": null,
   "id": "ad2fa8eb",
   "metadata": {},
   "outputs": [],
   "source": [
    "class myClass:\n",
    "    def __init__(self, pname, page, pmark):\n",
    "        self.name = pname\n",
    "        self.age = page\n",
    "        self.mark = pmark\n",
    "    \n",
    "    def __str__(self):\n",
    "        print(f\"name is {self.name} , his age is {self.age}\")\n",
    "    \n",
    "    def exam_mark(self):\n",
    "        if self.mark > 50:\n",
    "            print(f\"{self.name} is Exam Pass with {self.mark}\")\n",
    "        else:\n",
    "            print(f\"{self.name} is Exam Fail with {self.mark}\")\n",
    "            \n",
    "    def profile(self):\n",
    "        print(f\"name is {self.name} , his age is {self.age}, mark {self.mark}\")\n",
    "        \n",
    "\n",
    "obj = myClass('Aung Aung', 30, 80)\n",
    "print(obj.exam_mark())\n",
    "print(obj.profile())"
   ]
  },
  {
   "cell_type": "markdown",
   "id": "47adb344",
   "metadata": {},
   "source": [
    "Dates"
   ]
  },
  {
   "cell_type": "code",
   "execution_count": null,
   "id": "d6d7e29e",
   "metadata": {},
   "outputs": [],
   "source": [
    "import datetime\n",
    "\n",
    "today = datetime.datetime.now()\n",
    "\n",
    "print(today) #full date\n",
    "today.year  #year\n",
    "today.month  #month\n",
    "today.day #day\n",
    "\n",
    "\n",
    "\n"
   ]
  },
  {
   "cell_type": "code",
   "execution_count": null,
   "id": "ab65a186",
   "metadata": {},
   "outputs": [],
   "source": [
    "# str f time \n",
    "import datetime\n",
    "\n",
    "x = datetime.datetime.now()\n",
    "print(x)\n",
    "print(x.strftime('%a')) #day\n",
    "print(x.strftime('%A')) #day\n",
    "print(x.strftime('%d')) #day\n",
    "print(x.strftime('%b')) #month\n",
    "print(x.strftime('%B')) #month\n",
    "print(x.strftime('%m')) #month\n",
    "\n",
    "print(x.strftime('%y')) #year\n",
    "print(x.strftime('%Y')) #year\n",
    "\n",
    "print(x.strftime('%Y %B %d %A')) #year\n",
    "\n",
    "\n",
    "\n",
    "\n",
    "\n",
    "\n",
    "\n",
    "\n"
   ]
  },
  {
   "cell_type": "code",
   "execution_count": null,
   "id": "b93e4b4a",
   "metadata": {},
   "outputs": [],
   "source": [
    "import datetime\n",
    "x = datetime.datetime.now()\n",
    "print(x)\n",
    "print(x.strftime(\"%H\")) #24format\n",
    "print(x.strftime(\"%I\")) #12format\n",
    "\n",
    "print(x.strftime(\"%M\")) #min\n",
    "print(x.strftime(\"%S\")) #sec\n",
    "\n",
    "\n",
    "print(x.strftime(\"%p\")) #am/pm\n",
    "\n",
    "print(x.strftime(\"%j\")) #day of year\n",
    "print(x.strftime(\"%W\")) #week of year\n",
    "\n",
    "print(x.strftime(\"%X\")) #09:25:45\n",
    "\n",
    "\n",
    "\n",
    "\n",
    "\n"
   ]
  },
  {
   "cell_type": "code",
   "execution_count": null,
   "id": "966355c3",
   "metadata": {},
   "outputs": [],
   "source": [
    "import datetime\n",
    "x = datetime.datetime.today()\n",
    "print(x)\n",
    "print(x.strftime(\"%x\")) #08/01/2025\n",
    "print(x.strftime(\"%c\")) #\n"
   ]
  },
  {
   "cell_type": "code",
   "execution_count": null,
   "id": "d89aada5",
   "metadata": {},
   "outputs": [],
   "source": [
    "# except error \n",
    "# try : except\n",
    "try:\n",
    "    num = 5/4\n",
    "    print('this is try block')\n",
    "except:\n",
    "    print('this is except error')\n",
    "\n",
    "    "
   ]
  },
  {
   "cell_type": "code",
   "execution_count": null,
   "id": "fded4592",
   "metadata": {},
   "outputs": [],
   "source": [
    "# file \n",
    "# file = open('mynote.txt', 'r')\n",
    "file = open('mynote1.config', 'w')\n",
    "file.write('this is python class')\n",
    "file.close()"
   ]
  },
  {
   "cell_type": "code",
   "execution_count": null,
   "id": "6c191930",
   "metadata": {},
   "outputs": [],
   "source": [
    "file = open('mynote.txt', 'r')\n",
    "print(file.read())"
   ]
  },
  {
   "cell_type": "code",
   "execution_count": 48,
   "id": "df0d4186",
   "metadata": {},
   "outputs": [
    {
     "name": "stdout",
     "output_type": "stream",
     "text": [
      "file not found\n"
     ]
    }
   ],
   "source": [
    "import os\n",
    "try:\n",
    "    os.remove('mynote1.config')\n",
    "except:\n",
    "    print('file not found')"
   ]
  }
 ],
 "metadata": {
  "kernelspec": {
   "display_name": ".venv (3.12.7)",
   "language": "python",
   "name": "python3"
  },
  "language_info": {
   "codemirror_mode": {
    "name": "ipython",
    "version": 3
   },
   "file_extension": ".py",
   "mimetype": "text/x-python",
   "name": "python",
   "nbconvert_exporter": "python",
   "pygments_lexer": "ipython3",
   "version": "3.12.7"
  }
 },
 "nbformat": 4,
 "nbformat_minor": 5
}
