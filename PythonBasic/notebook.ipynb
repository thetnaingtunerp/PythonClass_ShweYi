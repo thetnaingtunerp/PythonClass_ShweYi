{
 "cells": [
  {
   "cell_type": "markdown",
   "id": "0dfdd718",
   "metadata": {},
   "source": [
    "variable"
   ]
  },
  {
   "cell_type": "code",
   "execution_count": null,
   "id": "a08300a1",
   "metadata": {},
   "outputs": [],
   "source": [
    "name = '1000' #this is number\n",
    "# name = 2000\n",
    "c = \"Mg Mg is running\"\n",
    "c = 'Mg Mg is Boy'\n",
    "f = 20.5\n",
    "\n",
    "# type()\n",
    "a = int()\n",
    "i = float(name)\n",
    "s = str(f)\n",
    "print(type(s))\n",
    "\n",
    "\n",
    "\n"
   ]
  },
  {
   "cell_type": "code",
   "execution_count": null,
   "id": "fd21eb8a",
   "metadata": {},
   "outputs": [],
   "source": [
    "# operator => + - * % / \n",
    "a = 200\n",
    "b = 300\n",
    "# sum \n",
    "print(a - b)\n",
    "#division\n",
    "print(b / a)\n",
    "#modulus\n",
    "print(b % a)\n"
   ]
  },
  {
   "cell_type": "code",
   "execution_count": null,
   "id": "990bc019",
   "metadata": {},
   "outputs": [],
   "source": [
    "# compar  > < >= <= ==  // True False\n",
    "a = 'mg mg'\n",
    "b = 'mg mg1'\n",
    "a <= b\n",
    "a == b"
   ]
  },
  {
   "cell_type": "code",
   "execution_count": null,
   "id": "59473b06",
   "metadata": {},
   "outputs": [],
   "source": [
    "# array type ->  list , tuple, set , dict\n",
    "list = [10,10, 20, 30, \"Mg Mg\"]\n",
    "tupe = (10, 20, 30, \"Mg Mg\", 'Aung Aung')\n",
    "set = {10, 10, 30, \"Mg Mg\", 'Aung Aung'}\n",
    "# dict = {'keys' : 'values'}\n",
    "dict = {'name': 'Mg Mg', 'age': 20, 'address':'Yangon'}"
   ]
  },
  {
   "cell_type": "code",
   "execution_count": null,
   "id": "6bae99cf",
   "metadata": {},
   "outputs": [],
   "source": [
    "#list\n",
    "list = [10,10, 20, 30, \"Mg Mg\"] #index num start 0\n",
    "ilist = [0, 1,  2,  3,  4]\n",
    "a = 200\n",
    "print(list)\n",
    "print(list[:3]) #range +1\n",
    "print(list[2:])"
   ]
  },
  {
   "cell_type": "code",
   "execution_count": null,
   "id": "cddfdbb2",
   "metadata": {},
   "outputs": [],
   "source": [
    "list = [10, 20, 30, \"Mg Mg\"]\n",
    "# insert()\n",
    "# append()\n",
    "# list.append('Aung Aung')\n",
    "# list.insert(1, \"AungAung\")\n",
    "# list.remove(\"Mg Mg\")\n",
    "# list.pop() #remove end\n",
    "# list.pop(2)\n",
    "list[3] = \"AungAung\"  #update\n",
    "print(list)"
   ]
  },
  {
   "cell_type": "code",
   "execution_count": null,
   "id": "b8aba059",
   "metadata": {},
   "outputs": [],
   "source": [
    "set = {10, 10, 30, \"Mg Mg\", 'Aung Aung', 10, 'Mg Mg'}\n",
    "set.remove(10)\n",
    "print(set)"
   ]
  },
  {
   "cell_type": "code",
   "execution_count": null,
   "id": "2319632b",
   "metadata": {},
   "outputs": [],
   "source": [
    "# dict = {'keys' : 'values'}\n",
    "dict = {'name': 'Mg Mg', 'age': 20, 'address':'Yangon'}\n",
    "print(dict.keys())\n",
    "print(dict.values())\n",
    "dict['name'] = \"Aung Aung\"\n",
    "dict.update({'name':'AungAung'})\n",
    "\n",
    "\n"
   ]
  },
  {
   "cell_type": "code",
   "execution_count": null,
   "id": "1ff9422e",
   "metadata": {},
   "outputs": [],
   "source": [
    "dict = {'name': 'Mg Mg', 'age': 20, 'address':'Yangon'}\n",
    "\n",
    "dict['phone'] = 1236644\n",
    "dict"
   ]
  },
  {
   "cell_type": "code",
   "execution_count": null,
   "id": "37227330",
   "metadata": {},
   "outputs": [],
   "source": [
    "list1 = {'name': 'Mg Mg', 'age': 20, 'address':'Yangon'}\n",
    "list2 = {'phone':1234567, 'email':'abc@mail.com'}\n",
    "list1 + list2"
   ]
  }
 ],
 "metadata": {
  "kernelspec": {
   "display_name": "Python 3",
   "language": "python",
   "name": "python3"
  },
  "language_info": {
   "codemirror_mode": {
    "name": "ipython",
    "version": 3
   },
   "file_extension": ".py",
   "mimetype": "text/x-python",
   "name": "python",
   "nbconvert_exporter": "python",
   "pygments_lexer": "ipython3",
   "version": "3.12.10"
  }
 },
 "nbformat": 4,
 "nbformat_minor": 5
}
