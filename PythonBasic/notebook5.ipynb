{
 "cells": [
  {
   "cell_type": "code",
   "execution_count": null,
   "id": "f0eaf4c0",
   "metadata": {},
   "outputs": [],
   "source": [
    "!pip install ttkbootstrap"
   ]
  },
  {
   "cell_type": "markdown",
   "id": "07b08170",
   "metadata": {},
   "source": [
    "pack() - top, bottom, lef, right\n",
    "grid() - row, col\n",
    "place() - x, y"
   ]
  },
  {
   "cell_type": "code",
   "execution_count": null,
   "id": "a6b5958f",
   "metadata": {},
   "outputs": [],
   "source": [
    "import tkinter as tk\n",
    "import ttkbootstrap as ttk\n",
    "\n",
    "root= tk.Tk()\n",
    "root.title('Day 7')\n",
    "root.geometry('500x500')\n",
    "\n",
    "\n",
    "lbl = ttk.Label(text='Helo world', bootstyle='danger').pack()\n",
    "btn1 = ttk.Button(text='bootstrap btn', bootstyle=\"success-outline\",state=\"disabled\", width=50)\n",
    "btn1.pack()\n",
    "\n",
    "ttk.Checkbutton(bootstyle=\"primary-outline-toolbutton\", text='i agree understnd').pack()\n",
    "ttk.Entry(bootstyle='warning', state=\"disabled\").pack()\n",
    "ttk.Spinbox(bootstyle=\"danger\").pack()\n",
    "root.mainloop()"
   ]
  }
 ],
 "metadata": {
  "kernelspec": {
   "display_name": ".venv (3.12.7)",
   "language": "python",
   "name": "python3"
  },
  "language_info": {
   "codemirror_mode": {
    "name": "ipython",
    "version": 3
   },
   "file_extension": ".py",
   "mimetype": "text/x-python",
   "name": "python",
   "nbconvert_exporter": "python",
   "pygments_lexer": "ipython3",
   "version": "3.12.7"
  }
 },
 "nbformat": 4,
 "nbformat_minor": 5
}
