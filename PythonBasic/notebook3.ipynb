{
 "cells": [
  {
   "cell_type": "code",
   "execution_count": null,
   "id": "53eb9b75",
   "metadata": {},
   "outputs": [],
   "source": [
    "# sqlite 3\n",
    "# apt update \n",
    "# sudo apt install sqlite3 \n",
    "# pip install sqlite3 \n",
    "import sqlite3\n",
    "#create db\n",
    "con = sqlite3.connect('firstdb.db')\n",
    "con.cursor()   #db open\n",
    "#create table\n",
    "con.execute(\"create table contact(name text, phone text, address text)\")  #query exe\n",
    "\n",
    "con.commit()  #save\n",
    "con.close()\n",
    "\n"
   ]
  },
  {
   "cell_type": "code",
   "execution_count": null,
   "id": "2a2f5ccf",
   "metadata": {},
   "outputs": [],
   "source": [
    "# insert data \n",
    "# insert into table_name(name=\"mg mg\", phone=\"133456\", address=\"ygn\")\n",
    "# insert into table_name(name, phone, address) VALUES(\"mg mg\", '13456', 'ygn')\n",
    "import sqlite3\n",
    "con = sqlite3.connect('firstdb.db')\n",
    "con.cursor()\n",
    "con.execute(\"INSERT INTO contact(name, phone, address) values('kyaw kyaw','123456','aya')\")\n",
    "con.execute(\"INSERT INTO contact(name, phone, address) values('aye aye','123456','ygn')\")\n",
    "con.commit()\n",
    "con.close()\n"
   ]
  },
  {
   "cell_type": "code",
   "execution_count": null,
   "id": "222f0a0e",
   "metadata": {},
   "outputs": [],
   "source": [
    "#read data\n",
    "# select colname from tablename\n",
    "import sqlite3\n",
    "con = sqlite3.connect('firstdb.db')\n",
    "con.cursor()\n",
    "data = con.execute(\"select * from contact\")\n",
    "# fectchone()\n",
    "# fetchall()\n",
    "for i in data:\n",
    "    print(i)\n",
    "\n",
    "con.commit()\n",
    "con.close()\n",
    "\n"
   ]
  },
  {
   "cell_type": "code",
   "execution_count": null,
   "id": "ba1cea24",
   "metadata": {},
   "outputs": [],
   "source": [
    "#read filter data\n",
    "# SELECT colname FROM tablename WHERE colname=123\n",
    "import sqlite3\n",
    "con = sqlite3.connect('firstdb.db')\n",
    "con.cursor()\n",
    "data = con.execute(\"select * from contact where name='mg mg'\")\n",
    "# fectchone()\n",
    "# fetchall()\n",
    "for i in data:\n",
    "    print(i)\n",
    "\n",
    "con.commit()\n",
    "con.close()\n",
    "\n"
   ]
  },
  {
   "cell_type": "code",
   "execution_count": null,
   "id": "8ebde05a",
   "metadata": {},
   "outputs": [],
   "source": [
    "#delete data\n",
    "# DELETE FROM tablename WHERE name='mg mg'\n",
    "import sqlite3\n",
    "con = sqlite3.connect('firstdb.db')\n",
    "con.cursor()\n",
    "con.execute(\"delete from contact where address='mdy' \")\n",
    "\n",
    "con.commit()\n",
    "con.close()"
   ]
  },
  {
   "cell_type": "code",
   "execution_count": null,
   "id": "8a74d9c8",
   "metadata": {},
   "outputs": [],
   "source": [
    "# update \n",
    "# UPDATE tablename SET phone='789789' WHERE name = 'mg mg'\n",
    "import sqlite3\n",
    "con = sqlite3.connect('firstdb.db')\n",
    "con.cursor()\n",
    "con.execute(\"update contact set phone='454545' where name='mg mg'\")\n",
    "\n",
    "con.commit()\n",
    "con.close()"
   ]
  }
 ],
 "metadata": {
  "kernelspec": {
   "display_name": ".venv (3.12.7)",
   "language": "python",
   "name": "python3"
  },
  "language_info": {
   "codemirror_mode": {
    "name": "ipython",
    "version": 3
   },
   "file_extension": ".py",
   "mimetype": "text/x-python",
   "name": "python",
   "nbconvert_exporter": "python",
   "pygments_lexer": "ipython3",
   "version": "3.12.7"
  }
 },
 "nbformat": 4,
 "nbformat_minor": 5
}
