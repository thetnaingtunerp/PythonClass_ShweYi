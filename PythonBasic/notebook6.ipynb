{
 "cells": [
  {
   "cell_type": "code",
   "execution_count": 24,
   "id": "892a0665",
   "metadata": {},
   "outputs": [
    {
     "name": "stdout",
     "output_type": "stream",
     "text": [
      "Square Value 100\n",
      "Cube Number 27\n"
     ]
    }
   ],
   "source": [
    "import threading\n",
    "\n",
    "def square_val(num):\n",
    "    print(\"Square Value {}\".format(num*num))\n",
    "    \n",
    "def cube_val(num, a):\n",
    "    print('Cube Number {}'.format(num * num * num))\n",
    "    \n",
    "    \n",
    "t1 = threading.Thread(target=square_val, args=(10,))\n",
    "t2 = threading.Thread(target=cube_val, args=(3,2))\n",
    "\n",
    "t1.start()\n",
    "t1.join()\n",
    "\n",
    "t2.start()\n",
    "t2.join()"
   ]
  },
  {
   "cell_type": "code",
   "execution_count": 25,
   "id": "d0fbc5bb",
   "metadata": {},
   "outputs": [],
   "source": [
    "import _thread\n",
    "import time\n",
    "\n",
    "# Function for the thread\n",
    "def my_own_thread(threadName, delay):\n",
    "    count = 0\n",
    "    while count < 5:\n",
    "        time.sleep(delay)\n",
    "        count += 1\n",
    "        print(\"%s: %s\" % (threadName, time.ctime(time.time())))\n",
    "\n",
    "# Start two threads\n",
    "try:\n",
    "    _thread.start_new_thread(my_own_thread, (\"Thread 1\", 2))\n",
    "    _thread.start_new_thread(my_own_thread, (\"Thread 2\", 4))\n",
    "except:\n",
    "    print(\"Error: unable to start thread\")\n",
    "\n",
    "\n",
    "\n",
    "\n"
   ]
  },
  {
   "cell_type": "code",
   "execution_count": 26,
   "id": "0cc06880",
   "metadata": {},
   "outputs": [
    {
     "name": "stdout",
     "output_type": "stream",
     "text": [
      "Fri Aug 22 09:16:13 2025:Fri Aug 22 09:16:13 2025\n"
     ]
    }
   ],
   "source": [
    "print(\"%s:%s\" % (time.ctime(time.time()),time.ctime(time.time())))"
   ]
  },
  {
   "cell_type": "code",
   "execution_count": 27,
   "id": "125c78ee",
   "metadata": {},
   "outputs": [
    {
     "name": "stdout",
     "output_type": "stream",
     "text": [
      "mg mgmg mg 1 2\n",
      " 1\n"
     ]
    },
    {
     "name": "stdout",
     "output_type": "stream",
     "text": [
      "Thread 1: Fri Aug 22 09:16:15 2025\n",
      "Thread 2: Fri Aug 22 09:16:17 2025\n",
      "Thread 1: Fri Aug 22 09:16:17 2025\n"
     ]
    }
   ],
   "source": [
    "import _thread\n",
    "import time\n",
    "\n",
    "def myfun(name,*arg):\n",
    "    print(name,*arg)\n",
    "    \n",
    "name = 'mg mg'\n",
    "\n",
    "_thread.start_new_thread(myfun, (name,1))\n",
    "_thread.start_new_thread(myfun, (name,1,2))\n",
    "\n",
    "time.sleep(5)\n",
    "\n"
   ]
  },
  {
   "cell_type": "code",
   "execution_count": 28,
   "id": "2aeea8be",
   "metadata": {},
   "outputs": [
    {
     "name": "stdout",
     "output_type": "stream",
     "text": [
      "Hello From Thread A - Fri Aug 22 09:16:18 2025\n",
      "Hello From Thread B - Fri Aug 22 09:16:18 2025\n",
      "Thread 1: Fri Aug 22 09:16:19 2025\n",
      "Hello From Thread A - Fri Aug 22 09:16:19 2025\n",
      "Hello From Thread B - Fri Aug 22 09:16:20 2025\n",
      "Hello From Thread A - Fri Aug 22 09:16:20 2025\n",
      "Thread 2: Fri Aug 22 09:16:21 2025\n",
      "Thread 1: Fri Aug 22 09:16:21 2025\n",
      "Hello From Thread A - Fri Aug 22 09:16:21 2025\n",
      "Hello From Thread B - Fri Aug 22 09:16:22 2025\n",
      "Hello From Thread A - Fri Aug 22 09:16:22 2025\n",
      "Thread 1: Fri Aug 22 09:16:23 2025\n",
      "Hello From Thread B - Fri Aug 22 09:16:24 2025\n",
      "Thread 2: Fri Aug 22 09:16:25 2025\n",
      "Hello From Thread B - Fri Aug 22 09:16:26 2025\n",
      "Terminated\n"
     ]
    }
   ],
   "source": [
    "import threading\n",
    "import time\n",
    "\n",
    "# Thread lock\n",
    "LOCK = threading.Lock()\n",
    "\n",
    "class MyThread(threading.Thread):\n",
    "    \"\"\"A derived class which customizes the thread.run method\"\"\"\n",
    "    \n",
    "    def __init__(self, name, delay):\n",
    "        threading.Thread.__init__(self)  # Call base constructor\n",
    "        self._name = name\n",
    "        self._delay = delay\n",
    "\n",
    "    def run(self):\n",
    "        for i in range(5):\n",
    "            LOCK.acquire()  # Acquire the lock\n",
    "            try:\n",
    "                print(\"Hello From %s - %s\" % (self._name, time.ctime(time.time())))\n",
    "            finally:\n",
    "                LOCK.release()  # Always release lock, even if error occurs\n",
    "            time.sleep(self._delay)\n",
    "\n",
    "# Create Our Threads\n",
    "a = MyThread(\"Thread A\", 1)\n",
    "b = MyThread(\"Thread B\", 2)\n",
    "\n",
    "# Start Our Threads\n",
    "a.start()\n",
    "b.start()\n",
    "\n",
    "# Wait for them both to finish\n",
    "a.join()\n",
    "b.join()\n",
    "\n",
    "# Terminate Message\n",
    "print(\"Terminated\")\n"
   ]
  },
  {
   "cell_type": "code",
   "execution_count": 29,
   "id": "a1321b95",
   "metadata": {},
   "outputs": [
    {
     "name": "stdout",
     "output_type": "stream",
     "text": [
      "Thread 2: Fri Aug 22 09:16:29 2025\n",
      "Requirement already satisfied: numpy in c:\\users\\e15\\pycharmprojects\\pythonclass_shweyi\\.venv\\lib\\site-packages (2.1.3)\n"
     ]
    },
    {
     "name": "stderr",
     "output_type": "stream",
     "text": [
      "\n",
      "[notice] A new release of pip is available: 25.1.1 -> 25.2\n",
      "[notice] To update, run: python.exe -m pip install --upgrade pip\n"
     ]
    }
   ],
   "source": [
    "!pip install numpy"
   ]
  },
  {
   "cell_type": "code",
   "execution_count": 30,
   "id": "821baa43",
   "metadata": {},
   "outputs": [
    {
     "data": {
      "text/plain": [
       "(3, 2, 5)"
      ]
     },
     "execution_count": 30,
     "metadata": {},
     "output_type": "execute_result"
    }
   ],
   "source": [
    "import numpy as np\n",
    "\n",
    "a = np.array([10,20,30,40,50])\n",
    "\n",
    "b = np.array([\n",
    "    [10,20,30,40,50],\n",
    "    [10,21,31,41,50]\n",
    "])\n",
    "\n",
    "c = np.array([\n",
    "    [[10,20,30,40,50], [10,21,31,41,50]],\n",
    "    [[10,20,30,40,50], [10,21,31,41,50]],\n",
    "    [[10,20,30,40,50], [10,21,31,41,50]],\n",
    "    \n",
    "    ])\n",
    "\n",
    "a.ndim\n",
    "b.shape\n",
    "c.shape"
   ]
  },
  {
   "cell_type": "code",
   "execution_count": 31,
   "id": "77ff52c1",
   "metadata": {},
   "outputs": [
    {
     "data": {
      "text/plain": [
       "array([[1., 1., 1.],\n",
       "       [1., 1., 1.]])"
      ]
     },
     "execution_count": 31,
     "metadata": {},
     "output_type": "execute_result"
    }
   ],
   "source": [
    "d = np.ones((2,3))\n",
    "\n",
    "d"
   ]
  },
  {
   "cell_type": "code",
   "execution_count": 32,
   "id": "b110c7ff",
   "metadata": {},
   "outputs": [
    {
     "data": {
      "text/plain": [
       "array([1, 3, 5, 7, 9])"
      ]
     },
     "execution_count": 32,
     "metadata": {},
     "output_type": "execute_result"
    }
   ],
   "source": [
    "# range(start, stop, step)\n",
    "# np.arange(start, stop, setp)\n",
    "a = np.arange(1, 10, 2)\n",
    "a"
   ]
  },
  {
   "cell_type": "code",
   "execution_count": 33,
   "id": "05452bbb",
   "metadata": {},
   "outputs": [
    {
     "data": {
      "text/plain": [
       "np.int64(5)"
      ]
     },
     "execution_count": 33,
     "metadata": {},
     "output_type": "execute_result"
    }
   ],
   "source": [
    "a = np.arange(1, 10, 2)\n",
    "\n",
    "a[2]"
   ]
  },
  {
   "cell_type": "code",
   "execution_count": 34,
   "id": "aa8337da",
   "metadata": {},
   "outputs": [
    {
     "data": {
      "text/plain": [
       "np.int64(8)"
      ]
     },
     "execution_count": 34,
     "metadata": {},
     "output_type": "execute_result"
    }
   ],
   "source": [
    "b = np.array([\n",
    "    [1,2,3,4],\n",
    "    [3,6,9,12],\n",
    "    [2,4,6,8]\n",
    "    ])\n",
    "# b.shape\n",
    "# b.ndim\n",
    "b[1]\n",
    "b[1,2]\n",
    "b[2,3]"
   ]
  },
  {
   "cell_type": "code",
   "execution_count": 35,
   "id": "f05a345e",
   "metadata": {},
   "outputs": [
    {
     "name": "stdout",
     "output_type": "stream",
     "text": [
      "(3, 2, 5)\n"
     ]
    },
    {
     "data": {
      "text/plain": [
       "np.int64(44)"
      ]
     },
     "execution_count": 35,
     "metadata": {},
     "output_type": "execute_result"
    }
   ],
   "source": [
    "c = np.array([\n",
    "    [[10,20,30,40,50], [10,21,31,41,50]],\n",
    "    [[10,20,30,40,50], [12,22,33,44,55]],\n",
    "    [[10,20,30,40,50], [10,21,31,41,50]],\n",
    "    \n",
    "    ])\n",
    "\n",
    "print(c.shape)\n",
    "c[1,1,3]"
   ]
  },
  {
   "cell_type": "code",
   "execution_count": 36,
   "id": "3c128a51",
   "metadata": {},
   "outputs": [
    {
     "data": {
      "text/plain": [
       "np.int64(22)"
      ]
     },
     "execution_count": 36,
     "metadata": {},
     "output_type": "execute_result"
    }
   ],
   "source": [
    "a = np.arange(1, 10, 2)\n",
    "\n",
    "b = np.array([\n",
    "    [1,2,3,4],\n",
    "    [3,6,9,12],\n",
    "    [2,4,6,8]\n",
    "    ])\n",
    "\n",
    "c = np.array([\n",
    "    [[10,20,30,40,50], [10,21,31,41,50]],\n",
    "    [[10,20,30,40,50], [12,22,33,44,55]],\n",
    "    [[10,20,30,40,50], [10,21,31,41,50]],\n",
    "    \n",
    "    ])\n",
    "\n",
    "c.shape\n",
    "c.ndim\n",
    "b[1,2]\n",
    "c[1,1,1]"
   ]
  },
  {
   "cell_type": "code",
   "execution_count": 37,
   "id": "b226b36d",
   "metadata": {},
   "outputs": [
    {
     "data": {
      "text/plain": [
       "array([80, 70, 60, 50, 40])"
      ]
     },
     "execution_count": 37,
     "metadata": {},
     "output_type": "execute_result"
    }
   ],
   "source": [
    "a = np.array([10,20,30,40,50,60,70,80,20,45,23])\n",
    "a[1:4]  #range(start index, stop index +1, step)\n",
    "a[0:12:2]\n",
    "a[7:2:-1]\n",
    "\n"
   ]
  },
  {
   "cell_type": "code",
   "execution_count": 38,
   "id": "28f1facd",
   "metadata": {},
   "outputs": [
    {
     "data": {
      "text/plain": [
       "array([6, 9])"
      ]
     },
     "execution_count": 38,
     "metadata": {},
     "output_type": "execute_result"
    }
   ],
   "source": [
    "b = np.array([\n",
    "    [1,2,3,4],\n",
    "    [3,6,9,12],\n",
    "    [2,4,6,8]\n",
    "    ])\n",
    "\n",
    "b[1, 1:3]"
   ]
  },
  {
   "cell_type": "code",
   "execution_count": 39,
   "id": "b9e40ec6",
   "metadata": {},
   "outputs": [
    {
     "data": {
      "text/plain": [
       "array([22, 33, 44])"
      ]
     },
     "execution_count": 39,
     "metadata": {},
     "output_type": "execute_result"
    }
   ],
   "source": [
    "c = np.array([\n",
    "    [[10,20,30,40,50], [10,21,31,41,50]],\n",
    "    [[10,20,30,40,50], [12,22,33,44,55]],\n",
    "    [[10,20,30,40,50], [10,21,31,41,50]],\n",
    "    \n",
    "    ])\n",
    "c[1,1,1:4 ]"
   ]
  },
  {
   "cell_type": "code",
   "execution_count": 40,
   "id": "f1eaa2a7",
   "metadata": {},
   "outputs": [
    {
     "name": "stdout",
     "output_type": "stream",
     "text": [
      "448\n"
     ]
    }
   ],
   "source": [
    "a = np.array([10,20,30,40,50,60,70,80,20,45,23])\n",
    "# sum()\n",
    "total = np.sum(a)\n",
    "print(total)"
   ]
  },
  {
   "cell_type": "code",
   "execution_count": 41,
   "id": "300b21bf",
   "metadata": {},
   "outputs": [
    {
     "name": "stdout",
     "output_type": "stream",
     "text": [
      "[10 30 30]\n"
     ]
    },
    {
     "name": "stdout",
     "output_type": "stream",
     "text": [
      "Thread 2: Fri Aug 22 09:16:33 2025\n"
     ]
    }
   ],
   "source": [
    "b = np.array([\n",
    "    [1,2,3,4],\n",
    "    [3,6,9,12],\n",
    "    [3,6,9,12],\n",
    "    ])\n",
    "# print(np.sum(b))\n",
    "total = np.sum(b, axis=1)\n",
    "print(total)"
   ]
  },
  {
   "cell_type": "markdown",
   "id": "a5296928",
   "metadata": {},
   "source": [
    "![alt text](image.png)"
   ]
  },
  {
   "cell_type": "code",
   "execution_count": 47,
   "id": "9dc922b2",
   "metadata": {},
   "outputs": [
    {
     "name": "stdout",
     "output_type": "stream",
     "text": [
      "40.72727272727273\n"
     ]
    }
   ],
   "source": [
    "# avg()\n",
    "# mean()\n",
    "a = np.array([10,20,30,40,50,60,70,80,20,45,23])\n",
    "b = np.array([\n",
    "    [1,2,3,4],\n",
    "    [3,6,9,12],\n",
    "    [3,6,9,12],\n",
    "    ])\n",
    "m = np.mean(a, axis=0)\n",
    "print(m)"
   ]
  },
  {
   "cell_type": "code",
   "execution_count": 46,
   "id": "d78b9ec3",
   "metadata": {},
   "outputs": [
    {
     "name": "stdout",
     "output_type": "stream",
     "text": [
      "21.54948178702347\n"
     ]
    }
   ],
   "source": [
    "a = np.array([10,20,30,40,50,60,70,80,20,45,23])\n",
    "d = np.std(a)\n",
    "print(d)"
   ]
  },
  {
   "cell_type": "code",
   "execution_count": 48,
   "id": "48406e8d",
   "metadata": {},
   "outputs": [
    {
     "name": "stdout",
     "output_type": "stream",
     "text": [
      "[ 20  40  60  80 100 120 140 160  40  90  46]\n"
     ]
    }
   ],
   "source": [
    "a = np.array([10,20,30,40,50,60,70,80,20,45,23])\n",
    "b = np.array([10,20,30,40,50,60,70,80,20,45,23])\n",
    "print(a+b)"
   ]
  }
 ],
 "metadata": {
  "kernelspec": {
   "display_name": ".venv (3.12.7)",
   "language": "python",
   "name": "python3"
  },
  "language_info": {
   "codemirror_mode": {
    "name": "ipython",
    "version": 3
   },
   "file_extension": ".py",
   "mimetype": "text/x-python",
   "name": "python",
   "nbconvert_exporter": "python",
   "pygments_lexer": "ipython3",
   "version": "3.12.7"
  }
 },
 "nbformat": 4,
 "nbformat_minor": 5
}
