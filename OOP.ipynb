{
 "cells": [
  {
   "cell_type": "code",
   "execution_count": null,
   "id": "cea94c86",
   "metadata": {},
   "outputs": [],
   "source": [
    "def insetdata():\n",
    "    return \n",
    "\n",
    "# function base \n",
    "# class base"
   ]
  },
  {
   "cell_type": "code",
   "execution_count": null,
   "id": "2f0d5c05",
   "metadata": {},
   "outputs": [],
   "source": [
    "def add_number():  #fun name\n",
    "    a = 3 + 4 #attri\n",
    "    print(a)\n",
    "\n",
    "class Add_Number:   \n",
    "    def __init__(self, fname, lname, age):\n",
    "        self.fname = fname\n",
    "        self.lname = lname\n",
    "        self.age = age\n",
    "     \n",
    "    def fullname(self):\n",
    "        print(f\"{self.fname} {self.lname}\")\n",
    "        \n",
    "    def getage(self):\n",
    "        print(self.age)\n",
    "\n",
    "\n",
    "obj = Add_Number(fname=\"Kyaw\", lname=\"Aung\", age = 40)\n",
    "\n",
    "\n",
    "obj.fullname()\n",
    "obj.getage()\n"
   ]
  },
  {
   "cell_type": "code",
   "execution_count": null,
   "id": "56ea5c89",
   "metadata": {},
   "outputs": [],
   "source": [
    "def getname(fname, lname, age):\n",
    "    print(f\"{fname}-{lname}-{age}\")\n",
    "    \n",
    "getname(\"mg\" , \"mg\", 20)"
   ]
  },
  {
   "cell_type": "code",
   "execution_count": null,
   "id": "63d66c40",
   "metadata": {},
   "outputs": [],
   "source": [
    "class Category:\n",
    "    def __init__(self, name, price):\n",
    "        self.n = name\n",
    "        self.p = price\n",
    "        \n",
    "    def __str__(self):\n",
    "        return self.n\n",
    "    \n",
    "        \n",
    "    def __bool__(self):\n",
    "        if self.p > 500:\n",
    "            return True\n",
    "        return False\n",
    "    \n",
    "    def __len__(self):\n",
    "        return self.n\n",
    "        \n",
    "    \n",
    "    \n",
    "        \n",
    "    def product_name(self):\n",
    "        print(self.n)\n",
    "    \n",
    "    def getprice(self):\n",
    "        print(self.p)\n",
    "\n",
    "class Sale(Category):\n",
    "    def total_sale(self):\n",
    "        print(f\"Name : {self.n} , Price : {self.p}\")\n",
    "\n",
    " \n",
    "\n",
    "\n",
    "obj = Category(100, 500)\n",
    "\n",
    "print(len(obj))"
   ]
  },
  {
   "cell_type": "code",
   "execution_count": null,
   "id": "bd689611",
   "metadata": {},
   "outputs": [],
   "source": [
    "# decorator property @\n",
    "# getter, setter \n",
    "# property(fget=get_age, fset=set_age)\n",
    "\n",
    "class Student:\n",
    "    def __init__(self, name, age):\n",
    "        self.name = name \n",
    "        self.age = age\n",
    "    \n",
    "    def set_mark(self, mark):\n",
    "        if mark < 50:\n",
    "            raise ValueError(\"not accept\")\n",
    "        self.mk = mark\n",
    "    \n",
    "    def get_mark(self):\n",
    "        return self.mk\n",
    "    \n",
    "    Mark = property(fget=get_mark, fset=set_mark)\n",
    "    \n",
    "\n",
    "stu = Student(\"Mg Mg\", 10)\n",
    "stu.Mark= 50\n",
    "print(stu.__dict__)\n",
    "    "
   ]
  },
  {
   "cell_type": "code",
   "execution_count": 68,
   "id": "fc4bfc08",
   "metadata": {},
   "outputs": [
    {
     "name": "stdout",
     "output_type": "stream",
     "text": [
      "{'name': 'Mg Mg', 'ag': 10, 'val': 20}\n"
     ]
    }
   ],
   "source": [
    "class Student:\n",
    "    def __init__(self, name, age):\n",
    "        self.name= name\n",
    "        self.ag = age\n",
    "        \n",
    "    @property   \n",
    "    def getage(self):\n",
    "        return self.ag\n",
    "    \n",
    "    def set_get(self, value):\n",
    "        if value < 18:\n",
    "            raise ValueError(\"you are young\")\n",
    "        self.val = value\n",
    "        \n",
    "    Age = getage.setter(set_get)\n",
    "\n",
    "\n",
    "stu = Student(\"Mg Mg\", 10)\n",
    "stu.Age = 20\n",
    "print(stu.__dict__)        \n",
    "    \n",
    "    "
   ]
  }
 ],
 "metadata": {
  "kernelspec": {
   "display_name": ".venv (3.12.7)",
   "language": "python",
   "name": "python3"
  },
  "language_info": {
   "codemirror_mode": {
    "name": "ipython",
    "version": 3
   },
   "file_extension": ".py",
   "mimetype": "text/x-python",
   "name": "python",
   "nbconvert_exporter": "python",
   "pygments_lexer": "ipython3",
   "version": "3.12.7"
  }
 },
 "nbformat": 4,
 "nbformat_minor": 5
}
